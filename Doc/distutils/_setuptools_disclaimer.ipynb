{
 "cells": [
  {
   "cell_type": "markdown",
   "metadata": {},
   "source": [
    "Note\n",
    "\n",
    "This document is being retained solely until the `setuptools`\n",
    "documentation at\n",
    "<https://setuptools.readthedocs.io/en/latest/setuptools.html>\n",
    "independently covers all of the relevant information currently included\n",
    "here."
   ],
   "id": "edc8731b-ae11-4a8e-87a0-3cec82ce0af0"
  }
 ],
 "nbformat": 4,
 "nbformat_minor": 5,
 "metadata": {}
}

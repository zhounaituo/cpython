{
 "cells": [
  {
   "cell_type": "markdown",
   "metadata": {},
   "source": [
    "orphan  \n",
    "\n",
    "# The Python Package Index (PyPI)\n",
    "\n",
    "The [Python Package Index (PyPI)](https://pypi.org) stores metadata\n",
    "describing distributions packaged with distutils and other publishing\n",
    "tools, as well the distribution archives themselves.\n",
    "\n",
    "References to up to date PyPI documentation can be found at\n",
    "`publishing-python-packages`."
   ],
   "id": "36b54326-b4b9-4d51-8eeb-19a853c47f4e"
  }
 ],
 "nbformat": 4,
 "nbformat_minor": 5,
 "metadata": {}
}

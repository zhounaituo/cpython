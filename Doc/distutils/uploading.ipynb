{
 "cells": [
  {
   "cell_type": "markdown",
   "metadata": {},
   "source": [
    "orphan  \n",
    "\n",
    "# Uploading Packages to the Package Index\n",
    "\n",
    "References to up to date PyPI documentation can be found at\n",
    "`publishing-python-packages`."
   ],
   "id": "271e4915-0288-4cd7-af92-fdc49181b444"
  }
 ],
 "nbformat": 4,
 "nbformat_minor": 5,
 "metadata": {}
}

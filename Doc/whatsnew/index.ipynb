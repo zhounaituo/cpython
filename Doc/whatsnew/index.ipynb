{
 "cells": [
  {
   "cell_type": "markdown",
   "metadata": {},
   "source": [
    "# What's New in Python\n",
    "\n",
    "The \"What's New in Python\" series of essays takes tours through the most\n",
    "important changes between major Python versions. They are a \"must read\"\n",
    "for anyone wishing to stay up-to-date after a new release.\n",
    "\n",
    "3.12.rst 3.11.rst 3.10.rst 3.9.rst 3.8.rst 3.7.rst 3.6.rst 3.5.rst\n",
    "3.4.rst 3.3.rst 3.2.rst 3.1.rst 3.0.rst 2.7.rst 2.6.rst 2.5.rst 2.4.rst\n",
    "2.3.rst 2.2.rst 2.1.rst 2.0.rst\n",
    "\n",
    "The \"Changelog\" is an HTML version of the [file\n",
    "built](https://pypi.org/project/blurb) from the contents of the\n",
    "`Misc/NEWS.d` directory tree, which contains *all* nontrivial changes to\n",
    "Python for the current version.\n",
    "\n",
    "changelog.rst"
   ],
   "id": "676d5309-a5ec-449c-ab3e-b27637a17a21"
  }
 ],
 "nbformat": 4,
 "nbformat_minor": 5,
 "metadata": {}
}

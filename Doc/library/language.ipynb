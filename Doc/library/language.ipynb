{
 "cells": [
  {
   "cell_type": "markdown",
   "metadata": {},
   "source": [
    "# Python Language Services\n",
    "\n",
    "Python provides a number of modules to assist in working with the Python\n",
    "language. These modules support tokenizing, parsing, syntax analysis,\n",
    "bytecode disassembly, and various other facilities.\n",
    "\n",
    "These modules include:\n",
    "\n",
    "ast.rst symtable.rst token.rst keyword.rst tokenize.rst tabnanny.rst\n",
    "pyclbr.rst py_compile.rst compileall.rst dis.rst pickletools.rst"
   ],
   "id": "cb979d4d-fc43-4008-9a7f-68b3abd6b5b0"
  }
 ],
 "nbformat": 4,
 "nbformat_minor": 5,
 "metadata": {}
}

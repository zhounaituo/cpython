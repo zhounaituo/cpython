{
 "cells": [
  {
   "cell_type": "markdown",
   "metadata": {},
   "source": [
    "# Development Tools\n",
    "\n",
    "The modules described in this chapter help you write software. For\n",
    "example, the `pydoc` module takes a module and generates documentation\n",
    "based on the module's contents. The `doctest` and `unittest` modules\n",
    "contains frameworks for writing unit tests that automatically exercise\n",
    "code and verify that the expected output is produced. `2to3` can\n",
    "translate Python 2.x source code into valid Python 3.x code.\n",
    "\n",
    "The list of modules described in this chapter is:\n",
    "\n",
    "typing.rst pydoc.rst devmode.rst doctest.rst unittest.rst\n",
    "unittest.mock.rst unittest.mock-examples.rst 2to3.rst test.rst"
   ],
   "id": "6c33b769-9c2c-4407-b2d9-25cafd7f3309"
  }
 ],
 "nbformat": 4,
 "nbformat_minor": 5,
 "metadata": {}
}

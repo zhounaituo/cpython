{
 "cells": [
  {
   "cell_type": "markdown",
   "metadata": {},
   "source": [
    "# Data Types\n",
    "\n",
    "The modules described in this chapter provide a variety of specialized\n",
    "data types such as dates and times, fixed-type arrays, heap queues,\n",
    "double-ended queues, and enumerations.\n",
    "\n",
    "Python also provides some built-in data types, in particular, `dict`,\n",
    "`list`, `set` and `frozenset`, and `tuple`. The `str` class is used to\n",
    "hold Unicode strings, and the `bytes` and `bytearray` classes are used\n",
    "to hold binary data.\n",
    "\n",
    "The following modules are documented in this chapter:\n",
    "\n",
    "datetime.rst zoneinfo.rst calendar.rst collections.rst\n",
    "collections.abc.rst heapq.rst bisect.rst array.rst weakref.rst types.rst\n",
    "copy.rst pprint.rst reprlib.rst enum.rst graphlib.rst"
   ],
   "id": "58a2e49c-752f-40f0-ba20-af8d05dfba26"
  }
 ],
 "nbformat": 4,
 "nbformat_minor": 5,
 "metadata": {}
}

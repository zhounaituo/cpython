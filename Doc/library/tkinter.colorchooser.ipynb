{
 "cells": [
  {
   "cell_type": "markdown",
   "metadata": {},
   "source": [
    "# `tkinter.colorchooser` --- Color choosing dialog\n",
    "\n",
    "tkinter.colorchooser\n",
    "\n",
    "**Source code:** `Lib/tkinter/colorchooser.py`\n",
    "\n",
    "------------------------------------------------------------------------\n",
    "\n",
    "The `tkinter.colorchooser` module provides the `Chooser` class as an\n",
    "interface to the native color picker dialog. `Chooser` implements a\n",
    "modal color choosing dialog window. The `Chooser` class inherits from\n",
    "the `~tkinter.commondialog.Dialog` class.\n",
    "\n",
    "askcolor(color=None, \\*\\*options)\n",
    "\n",
    "Create a color choosing dialog. A call to this method will show the\n",
    "window, wait for the user to make a selection, and return the selected\n",
    "color (or `None`) to the caller.\n",
    "\n",
    "Module `tkinter.commondialog`  \n",
    "Tkinter standard dialog module"
   ],
   "id": "644e98ee-ccb6-4278-9703-d6c6ff1d10f4"
  }
 ],
 "nbformat": 4,
 "nbformat_minor": 5,
 "metadata": {}
}

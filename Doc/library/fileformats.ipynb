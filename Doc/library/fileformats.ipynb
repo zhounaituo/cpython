{
 "cells": [
  {
   "cell_type": "markdown",
   "metadata": {},
   "source": [
    "# File Formats\n",
    "\n",
    "The modules described in this chapter parse various miscellaneous file\n",
    "formats that aren't markup languages and are not related to e-mail.\n",
    "\n",
    "csv.rst configparser.rst tomllib.rst netrc.rst plistlib.rst"
   ],
   "id": "cfccdac9-7ab3-43f5-bbdf-dda65d6dc450"
  }
 ],
 "nbformat": 4,
 "nbformat_minor": 5,
 "metadata": {}
}

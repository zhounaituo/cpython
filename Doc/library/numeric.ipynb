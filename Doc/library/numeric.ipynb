{
 "cells": [
  {
   "cell_type": "markdown",
   "metadata": {},
   "source": [
    "# Numeric and Mathematical Modules\n",
    "\n",
    "The modules described in this chapter provide numeric and math-related\n",
    "functions and data types. The `numbers` module defines an abstract\n",
    "hierarchy of numeric types. The `math` and `cmath` modules contain\n",
    "various mathematical functions for floating-point and complex numbers.\n",
    "The `decimal` module supports exact representations of decimal numbers,\n",
    "using arbitrary precision arithmetic.\n",
    "\n",
    "The following modules are documented in this chapter:\n",
    "\n",
    "numbers.rst math.rst cmath.rst decimal.rst fractions.rst random.rst\n",
    "statistics.rst"
   ],
   "id": "9331d2f9-5c64-43ad-bb9a-c3db195e20b1"
  }
 ],
 "nbformat": 4,
 "nbformat_minor": 5,
 "metadata": {}
}

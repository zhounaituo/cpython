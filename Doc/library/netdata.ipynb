{
 "cells": [
  {
   "cell_type": "markdown",
   "metadata": {},
   "source": [
    "# Internet Data Handling\n",
    "\n",
    "This chapter describes modules which support handling data formats\n",
    "commonly used on the internet.\n",
    "\n",
    "email.rst json.rst mailbox.rst mimetypes.rst base64.rst binascii.rst\n",
    "quopri.rst"
   ],
   "id": "bb5b3d0a-c12d-48ab-96b8-e715a73b1fc1"
  }
 ],
 "nbformat": 4,
 "nbformat_minor": 5,
 "metadata": {}
}

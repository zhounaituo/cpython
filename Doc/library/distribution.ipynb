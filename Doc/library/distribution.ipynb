{
 "cells": [
  {
   "cell_type": "markdown",
   "metadata": {},
   "source": [
    "# Software Packaging and Distribution\n",
    "\n",
    "These libraries help you with publishing and installing Python software.\n",
    "While these modules are designed to work in conjunction with the [Python\n",
    "Package Index](https://pypi.org), they can also be used with a local\n",
    "index server, or without any index server at all.\n",
    "\n",
    "distutils.rst ensurepip.rst venv.rst zipapp.rst"
   ],
   "id": "4c032e00-3501-43d2-8679-7679a459725c"
  }
 ],
 "nbformat": 4,
 "nbformat_minor": 5,
 "metadata": {}
}

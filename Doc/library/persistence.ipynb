{
 "cells": [
  {
   "cell_type": "markdown",
   "metadata": {},
   "source": [
    "# Data Persistence\n",
    "\n",
    "The modules described in this chapter support storing Python data in a\n",
    "persistent form on disk. The `pickle` and `marshal` modules can turn\n",
    "many Python data types into a stream of bytes and then recreate the\n",
    "objects from the bytes. The various DBM-related modules support a family\n",
    "of hash-based file formats that store a mapping of strings to other\n",
    "strings.\n",
    "\n",
    "The list of modules described in this chapter is:\n",
    "\n",
    "pickle.rst copyreg.rst shelve.rst marshal.rst dbm.rst sqlite3.rst"
   ],
   "id": "85999cf1-ff5e-4115-8ad0-f9bf46d1cc64"
  }
 ],
 "nbformat": 4,
 "nbformat_minor": 5,
 "metadata": {}
}

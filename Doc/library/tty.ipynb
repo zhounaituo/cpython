{
 "cells": [
  {
   "cell_type": "markdown",
   "metadata": {},
   "source": [
    "# `tty` --- Terminal control functions\n",
    "\n",
    "tty\n",
    "\n",
    "Steen Lumholt\n",
    "\n",
    "Moshe Zadka \\<<moshez@zadka.site.co.il>\\>\n",
    "\n",
    "**Source code:** `Lib/tty.py`\n",
    "\n",
    "------------------------------------------------------------------------\n",
    "\n",
    "The `tty` module defines functions for putting the tty into cbreak and\n",
    "raw modes.\n",
    "\n",
    "Because it requires the `termios` module, it will work only on Unix.\n",
    "\n",
    "The `tty` module defines the following functions:\n",
    "\n",
    "setraw(fd, when=termios.TCSAFLUSH)\n",
    "\n",
    "Change the mode of the file descriptor *fd* to raw. If *when* is\n",
    "omitted, it defaults to `termios.TCSAFLUSH`, and is passed to\n",
    "`termios.tcsetattr`.\n",
    "\n",
    "setcbreak(fd, when=termios.TCSAFLUSH)\n",
    "\n",
    "Change the mode of file descriptor *fd* to cbreak. If *when* is omitted,\n",
    "it defaults to `termios.TCSAFLUSH`, and is passed to\n",
    "`termios.tcsetattr`.\n",
    "\n",
    "Module `termios`  \n",
    "Low-level terminal control interface."
   ],
   "id": "12cf975f-21e6-46ac-a4a1-d8262ba05866"
  }
 ],
 "nbformat": 4,
 "nbformat_minor": 5,
 "metadata": {}
}

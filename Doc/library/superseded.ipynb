{
 "cells": [
  {
   "cell_type": "markdown",
   "metadata": {},
   "source": [
    "# Superseded Modules\n",
    "\n",
    "The modules described in this chapter are deprecated and only kept for\n",
    "backwards compatibility. They have been superseded by other modules.\n",
    "\n",
    "aifc.rst asynchat.rst asyncore.rst audioop.rst cgi.rst cgitb.rst\n",
    "chunk.rst crypt.rst imghdr.rst imp.rst mailcap.rst msilib.rst nis.rst\n",
    "nntplib.rst optparse.rst ossaudiodev.rst pipes.rst smtpd.rst sndhdr.rst\n",
    "spwd.rst sunau.rst telnetlib.rst uu.rst xdrlib.rst"
   ],
   "id": "c97769dd-caeb-45e9-956b-625539b86c89"
  }
 ],
 "nbformat": 4,
 "nbformat_minor": 5,
 "metadata": {}
}

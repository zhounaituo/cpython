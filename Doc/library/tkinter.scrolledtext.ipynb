{
 "cells": [
  {
   "cell_type": "markdown",
   "metadata": {},
   "source": [
    "# `tkinter.scrolledtext` --- Scrolled Text Widget\n",
    "\n",
    "tkinter.scrolledtext\n",
    "\n",
    "Fred L. Drake, Jr. \\<<fdrake@acm.org>\\>\n",
    "\n",
    "**Source code:** `Lib/tkinter/scrolledtext.py`\n",
    "\n",
    "------------------------------------------------------------------------\n",
    "\n",
    "The `tkinter.scrolledtext` module provides a class of the same name\n",
    "which implements a basic text widget which has a vertical scroll bar\n",
    "configured to do the \"right thing.\" Using the `ScrolledText` class is a\n",
    "lot easier than setting up a text widget and scroll bar directly.\n",
    "\n",
    "The text widget and scrollbar are packed together in a `Frame`, and the\n",
    "methods of the `Grid` and `Pack` geometry managers are acquired from the\n",
    "`Frame` object. This allows the `ScrolledText` widget to be used\n",
    "directly to achieve most normal geometry management behavior.\n",
    "\n",
    "Should more specific control be necessary, the following attributes are\n",
    "available:\n",
    "\n",
    "frame\n",
    "\n",
    "The frame which surrounds the text and scroll bar widgets.\n",
    "\n",
    "vbar\n",
    "\n",
    "The scroll bar widget."
   ],
   "id": "4fd28378-c042-4d07-8829-7e521f0635f3"
  }
 ],
 "nbformat": 4,
 "nbformat_minor": 5,
 "metadata": {}
}

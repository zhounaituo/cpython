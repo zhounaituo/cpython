{
 "cells": [
  {
   "cell_type": "markdown",
   "metadata": {},
   "source": [
    "# The `concurrent` package\n",
    "\n",
    "Currently, there is only one module in this package:\n",
    "\n",
    "-   `concurrent.futures` -- Launching parallel tasks"
   ],
   "id": "58e0b5c9-7eae-4156-84bd-2dc34d36e708"
  }
 ],
 "nbformat": 4,
 "nbformat_minor": 5,
 "metadata": {}
}

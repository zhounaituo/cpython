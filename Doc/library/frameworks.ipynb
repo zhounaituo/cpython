{
 "cells": [
  {
   "cell_type": "markdown",
   "metadata": {},
   "source": [
    "# Program Frameworks\n",
    "\n",
    "The modules described in this chapter are frameworks that will largely\n",
    "dictate the structure of your program. Currently the modules described\n",
    "here are all oriented toward writing command-line interfaces.\n",
    "\n",
    "The full list of modules described in this chapter is:\n",
    "\n",
    "turtle.rst cmd.rst shlex.rst"
   ],
   "id": "72a7e051-cfe5-4a9d-8cad-ab1a51baef2a"
  }
 ],
 "nbformat": 4,
 "nbformat_minor": 5,
 "metadata": {}
}

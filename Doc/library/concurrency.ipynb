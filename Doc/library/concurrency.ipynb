{
 "cells": [
  {
   "cell_type": "markdown",
   "metadata": {},
   "source": [
    "# Concurrent Execution\n",
    "\n",
    "The modules described in this chapter provide support for concurrent\n",
    "execution of code. The appropriate choice of tool will depend on the\n",
    "task to be executed (CPU bound vs IO bound) and preferred style of\n",
    "development (event driven cooperative multitasking vs preemptive\n",
    "multitasking). Here's an overview:\n",
    "\n",
    "threading.rst multiprocessing.rst multiprocessing.shared_memory.rst\n",
    "concurrent.rst concurrent.futures.rst subprocess.rst sched.rst queue.rst\n",
    "contextvars.rst\n",
    "\n",
    "The following are support modules for some of the above services:\n",
    "\n",
    "\\_thread.rst"
   ],
   "id": "c8193435-05a7-4ed2-9d40-22fedc87181f"
  }
 ],
 "nbformat": 4,
 "nbformat_minor": 5,
 "metadata": {}
}

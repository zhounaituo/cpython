{
 "cells": [
  {
   "cell_type": "markdown",
   "metadata": {},
   "source": [
    "# Debugging and Profiling\n",
    "\n",
    "These libraries help you with Python development: the debugger enables\n",
    "you to step through code, analyze stack frames and set breakpoints etc.,\n",
    "and the profilers run code and give you a detailed breakdown of\n",
    "execution times, allowing you to identify bottlenecks in your programs.\n",
    "Auditing events provide visibility into runtime behaviors that would\n",
    "otherwise require intrusive debugging or patching.\n",
    "\n",
    "audit_events.rst bdb.rst faulthandler.rst pdb.rst profile.rst timeit.rst\n",
    "trace.rst tracemalloc.rst"
   ],
   "id": "9de94c90-624c-4b8e-b3b8-1dd22a2d1686"
  }
 ],
 "nbformat": 4,
 "nbformat_minor": 5,
 "metadata": {}
}

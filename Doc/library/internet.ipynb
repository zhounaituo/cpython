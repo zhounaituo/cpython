{
 "cells": [
  {
   "cell_type": "markdown",
   "metadata": {},
   "source": [
    "# Internet Protocols and Support\n",
    "\n",
    "single: WWW single: Internet single: World Wide Web\n",
    "\n",
    "module: socket\n",
    "\n",
    "The modules described in this chapter implement internet protocols and\n",
    "support for related technology. They are all implemented in Python. Most\n",
    "of these modules require the presence of the system-dependent module\n",
    "`socket`, which is currently supported on most popular platforms. Here\n",
    "is an overview:\n",
    "\n",
    "webbrowser.rst wsgiref.rst urllib.rst urllib.request.rst\n",
    "urllib.parse.rst urllib.error.rst urllib.robotparser.rst http.rst\n",
    "http.client.rst ftplib.rst poplib.rst imaplib.rst smtplib.rst uuid.rst\n",
    "socketserver.rst http.server.rst http.cookies.rst http.cookiejar.rst\n",
    "xmlrpc.rst xmlrpc.client.rst xmlrpc.server.rst ipaddress.rst"
   ],
   "id": "f2263a41-80e2-4f55-b45b-0a31ccdf25b7"
  }
 ],
 "nbformat": 4,
 "nbformat_minor": 5,
 "metadata": {}
}

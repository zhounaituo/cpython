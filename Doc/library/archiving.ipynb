{
 "cells": [
  {
   "cell_type": "markdown",
   "metadata": {},
   "source": [
    "# Data Compression and Archiving\n",
    "\n",
    "The modules described in this chapter support data compression with the\n",
    "zlib, gzip, bzip2 and lzma algorithms, and the creation of ZIP- and\n",
    "tar-format archives. See also `archiving-operations` provided by the\n",
    "`shutil` module.\n",
    "\n",
    "zlib.rst gzip.rst bz2.rst lzma.rst zipfile.rst tarfile.rst"
   ],
   "id": "c39f19dd-c14a-45df-a11e-050b66056763"
  }
 ],
 "nbformat": 4,
 "nbformat_minor": 5,
 "metadata": {}
}

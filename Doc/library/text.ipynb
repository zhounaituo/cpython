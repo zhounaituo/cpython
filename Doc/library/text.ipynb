{
 "cells": [
  {
   "cell_type": "markdown",
   "metadata": {},
   "source": [
    "# Text Processing Services<span id=\"stringservices\"></span>\n",
    "\n",
    "The modules described in this chapter provide a wide range of string\n",
    "manipulation operations and other text processing services.\n",
    "\n",
    "The `codecs` module described under `binaryservices` is also highly\n",
    "relevant to text processing. In addition, see the documentation for\n",
    "Python's built-in string type in `textseq`.\n",
    "\n",
    "string.rst re.rst difflib.rst textwrap.rst unicodedata.rst\n",
    "stringprep.rst readline.rst rlcompleter.rst"
   ],
   "id": "30528f18-2b51-4ea8-906c-136c521d7150"
  }
 ],
 "nbformat": 4,
 "nbformat_minor": 5,
 "metadata": {}
}

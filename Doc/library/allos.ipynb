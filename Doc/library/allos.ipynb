{
 "cells": [
  {
   "cell_type": "markdown",
   "metadata": {},
   "source": [
    "# Generic Operating System Services\n",
    "\n",
    "The modules described in this chapter provide interfaces to operating\n",
    "system features that are available on (almost) all operating systems,\n",
    "such as files and a clock. The interfaces are generally modeled after\n",
    "the Unix or C interfaces, but they are available on most other systems\n",
    "as well. Here's an overview:\n",
    "\n",
    "os.rst io.rst time.rst argparse.rst getopt.rst logging.rst\n",
    "logging.config.rst logging.handlers.rst getpass.rst curses.rst\n",
    "curses.ascii.rst curses.panel.rst platform.rst errno.rst ctypes.rst"
   ],
   "id": "686f1dfa-6af9-4ea0-bcff-e0ee98700c49"
  }
 ],
 "nbformat": 4,
 "nbformat_minor": 5,
 "metadata": {}
}

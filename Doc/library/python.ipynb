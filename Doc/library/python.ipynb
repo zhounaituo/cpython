{
 "cells": [
  {
   "cell_type": "markdown",
   "metadata": {},
   "source": [
    "# Python Runtime Services\n",
    "\n",
    "The modules described in this chapter provide a wide range of services\n",
    "related to the Python interpreter and its interaction with its\n",
    "environment. Here's an overview:\n",
    "\n",
    "sys.rst sysconfig.rst builtins.rst \\_\\_main\\_\\_.rst warnings.rst\n",
    "dataclasses.rst contextlib.rst abc.rst atexit.rst traceback.rst\n",
    "\\_\\_future\\_\\_.rst gc.rst inspect.rst site.rst"
   ],
   "id": "13890756-2466-416a-9eab-8d1024879292"
  }
 ],
 "nbformat": 4,
 "nbformat_minor": 5,
 "metadata": {}
}

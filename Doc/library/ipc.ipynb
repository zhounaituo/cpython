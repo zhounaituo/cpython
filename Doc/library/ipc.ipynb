{
 "cells": [
  {
   "cell_type": "markdown",
   "metadata": {},
   "source": [
    "# Networking and Interprocess Communication\n",
    "\n",
    "The modules described in this chapter provide mechanisms for networking\n",
    "and inter-processes communication.\n",
    "\n",
    "Some modules only work for two processes that are on the same machine,\n",
    "e.g. `signal` and `mmap`. Other modules support networking protocols\n",
    "that two or more processes can use to communicate across machines.\n",
    "\n",
    "The list of modules described in this chapter is:\n",
    "\n",
    "asyncio.rst socket.rst ssl.rst select.rst selectors.rst signal.rst\n",
    "mmap.rst"
   ],
   "id": "f88b23bc-3972-44c2-907b-cc9587b73ae5"
  }
 ],
 "nbformat": 4,
 "nbformat_minor": 5,
 "metadata": {}
}

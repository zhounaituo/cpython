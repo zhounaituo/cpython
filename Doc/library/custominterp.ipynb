{
 "cells": [
  {
   "cell_type": "markdown",
   "metadata": {},
   "source": [
    "# Custom Python Interpreters\n",
    "\n",
    "The modules described in this chapter allow writing interfaces similar\n",
    "to Python's interactive interpreter. If you want a Python interpreter\n",
    "that supports some special feature in addition to the Python language,\n",
    "you should look at the `code` module. (The `codeop` module is\n",
    "lower-level, used to support compiling a possibly-incomplete chunk of\n",
    "Python code.)\n",
    "\n",
    "The full list of modules described in this chapter is:\n",
    "\n",
    "code.rst codeop.rst"
   ],
   "id": "42dc384e-0ef1-4cf1-8b58-675617278393"
  }
 ],
 "nbformat": 4,
 "nbformat_minor": 5,
 "metadata": {}
}

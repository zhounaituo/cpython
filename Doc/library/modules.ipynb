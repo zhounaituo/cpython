{
 "cells": [
  {
   "cell_type": "markdown",
   "metadata": {},
   "source": [
    "# Importing Modules\n",
    "\n",
    "The modules described in this chapter provide new ways to import other\n",
    "Python modules and hooks for customizing the import process.\n",
    "\n",
    "The full list of modules described in this chapter is:\n",
    "\n",
    "zipimport.rst pkgutil.rst modulefinder.rst runpy.rst importlib.rst\n",
    "importlib.resources.rst importlib.metadata.rst sys_path_init.rst"
   ],
   "id": "09b50d18-fa8a-4f1a-9628-15fe319445f8"
  }
 ],
 "nbformat": 4,
 "nbformat_minor": 5,
 "metadata": {}
}

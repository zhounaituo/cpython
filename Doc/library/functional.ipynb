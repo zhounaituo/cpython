{
 "cells": [
  {
   "cell_type": "markdown",
   "metadata": {},
   "source": [
    "# Functional Programming Modules\n",
    "\n",
    "The modules described in this chapter provide functions and classes that\n",
    "support a functional programming style, and general operations on\n",
    "callables.\n",
    "\n",
    "The following modules are documented in this chapter:\n",
    "\n",
    "itertools.rst functools.rst operator.rst"
   ],
   "id": "9c664244-0acb-42be-9244-599889ffe757"
  }
 ],
 "nbformat": 4,
 "nbformat_minor": 5,
 "metadata": {}
}

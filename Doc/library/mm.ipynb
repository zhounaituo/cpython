{
 "cells": [
  {
   "cell_type": "markdown",
   "metadata": {},
   "source": [
    "# Multimedia Services\n",
    "\n",
    "The modules described in this chapter implement various algorithms or\n",
    "interfaces that are mainly useful for multimedia applications. They are\n",
    "available at the discretion of the installation. Here's an overview:\n",
    "\n",
    "wave.rst colorsys.rst"
   ],
   "id": "7937ede6-e759-4f66-a2e6-2b6ee7fc1644"
  }
 ],
 "nbformat": 4,
 "nbformat_minor": 5,
 "metadata": {}
}

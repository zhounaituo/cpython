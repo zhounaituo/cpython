{
 "cells": [
  {
   "cell_type": "markdown",
   "metadata": {},
   "source": [
    "# Cryptographic Services\n",
    "\n",
    "single: cryptography\n",
    "\n",
    "The modules described in this chapter implement various algorithms of a\n",
    "cryptographic nature. They are available at the discretion of the\n",
    "installation. On Unix systems, the `crypt` module may also be available.\n",
    "Here's an overview:\n",
    "\n",
    "hashlib.rst hmac.rst secrets.rst"
   ],
   "id": "546fc204-03d6-484b-8a84-54949fc9f11e"
  }
 ],
 "nbformat": 4,
 "nbformat_minor": 5,
 "metadata": {}
}

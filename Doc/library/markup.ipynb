{
 "cells": [
  {
   "cell_type": "markdown",
   "metadata": {},
   "source": [
    "# Structured Markup Processing Tools\n",
    "\n",
    "Python supports a variety of modules to work with various forms of\n",
    "structured data markup. This includes modules to work with the Standard\n",
    "Generalized Markup Language (SGML) and the Hypertext Markup Language\n",
    "(HTML), and several interfaces for working with the Extensible Markup\n",
    "Language (XML).\n",
    "\n",
    "html.rst html.parser.rst html.entities.rst xml.rst\n",
    "xml.etree.elementtree.rst xml.dom.rst xml.dom.minidom.rst\n",
    "xml.dom.pulldom.rst xml.sax.rst xml.sax.handler.rst xml.sax.utils.rst\n",
    "xml.sax.reader.rst pyexpat.rst"
   ],
   "id": "2c2de38c-3de6-4ad5-b793-eda09e89953a"
  }
 ],
 "nbformat": 4,
 "nbformat_minor": 5,
 "metadata": {}
}

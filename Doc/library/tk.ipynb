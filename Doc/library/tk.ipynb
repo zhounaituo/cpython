{
 "cells": [
  {
   "cell_type": "markdown",
   "metadata": {},
   "source": [
    "# Graphical User Interfaces with Tk\n",
    "\n",
    "single: GUI single: Graphical User Interface single: Tkinter single: Tk\n",
    "\n",
    "Tk/Tcl has long been an integral part of Python. It provides a robust\n",
    "and platform independent windowing toolkit, that is available to Python\n",
    "programmers using the `tkinter` package, and its extension, the\n",
    "`tkinter.tix` and the `tkinter.ttk` modules.\n",
    "\n",
    "The `tkinter` package is a thin object-oriented layer on top of Tcl/Tk.\n",
    "To use `tkinter`, you don't need to write Tcl code, but you will need to\n",
    "consult the Tk documentation, and occasionally the Tcl documentation.\n",
    "`tkinter` is a set of wrappers that implement the Tk widgets as Python\n",
    "classes.\n",
    "\n",
    "`tkinter`'s chief virtues are that it is fast, and that it usually comes\n",
    "bundled with Python. Although its standard documentation is weak, good\n",
    "material is available, which includes: references, tutorials, a book and\n",
    "others. `tkinter` is also famous for having an outdated look and feel,\n",
    "which has been vastly improved in Tk 8.5. Nevertheless, there are many\n",
    "other GUI libraries that you could be interested in. The Python wiki\n",
    "lists several alternative [GUI frameworks and\n",
    "tools](https://wiki.python.org/moin/GuiProgramming).\n",
    "\n",
    "tkinter.rst tkinter.colorchooser.rst tkinter.font.rst dialog.rst\n",
    "tkinter.messagebox.rst tkinter.scrolledtext.rst tkinter.dnd.rst\n",
    "tkinter.ttk.rst tkinter.tix.rst idle.rst"
   ],
   "id": "9b308f9e-6f06-47ca-87cb-f3c85ca097f5"
  }
 ],
 "nbformat": 4,
 "nbformat_minor": 5,
 "metadata": {}
}

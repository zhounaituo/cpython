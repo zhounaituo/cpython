{
 "cells": [
  {
   "cell_type": "markdown",
   "metadata": {},
   "source": [
    "single: audit events\n",
    "\n",
    "# Audit events table\n",
    "\n",
    "This table contains all events raised by `sys.audit` or :c`PySys_Audit`\n",
    "calls throughout the CPython runtime and the standard library. These\n",
    "calls were added in 3.8.0 or later (see `578`).\n",
    "\n",
    "See `sys.addaudithook` and :c`PySys_AddAuditHook` for information on\n",
    "handling these events.\n",
    "\n",
    "This table is generated from the CPython documentation, and may not\n",
    "represent events raised by other implementations. See your runtime\n",
    "specific documentation for actual events raised.\n",
    "\n",
    "The following events are raised internally and do not correspond to any\n",
    "public API of CPython:\n",
    "\n",
    "| Audit event               | Arguments                                                                                   |\n",
    "|---------------------------|--------------------------------------------|\n",
    "| \\_winapi.CreateFile       | `file_name`, `desired_access`, `share_mode`, `creation_disposition`, `flags_and_attributes` |\n",
    "| \\_winapi.CreateJunction   | `src_path`, `dst_path`                                                                      |\n",
    "| \\_winapi.CreateNamedPipe  | `name`, `open_mode`, `pipe_mode`                                                            |\n",
    "| \\_winapi.CreatePipe       |                                                                                             |\n",
    "| \\_winapi.CreateProcess    | `application_name`, `command_line`, `current_directory`                                     |\n",
    "| \\_winapi.OpenProcess      | `process_id`, `desired_access`                                                              |\n",
    "| \\_winapi.TerminateProcess | `handle`, `exit_code`                                                                       |\n",
    "| ctypes.PyObj_FromPtr      | `obj`                                                                                       |"
   ],
   "id": "1ade085e-b7f8-41f4-a6dd-10c24367b2f2"
  }
 ],
 "nbformat": 4,
 "nbformat_minor": 5,
 "metadata": {}
}

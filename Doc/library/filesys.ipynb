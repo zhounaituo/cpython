{
 "cells": [
  {
   "cell_type": "markdown",
   "metadata": {},
   "source": [
    "# File and Directory Access\n",
    "\n",
    "The modules described in this chapter deal with disk files and\n",
    "directories. For example, there are modules for reading the properties\n",
    "of files, manipulating paths in a portable way, and creating temporary\n",
    "files. The full list of modules in this chapter is:\n",
    "\n",
    "pathlib.rst os.path.rst fileinput.rst stat.rst filecmp.rst tempfile.rst\n",
    "glob.rst fnmatch.rst linecache.rst shutil.rst\n",
    "\n",
    "Module `os`  \n",
    "Operating system interfaces, including functions to work with files at a\n",
    "lower level than Python `file objects <file object>`.\n",
    "\n",
    "Module `io`  \n",
    "Python's built-in I/O library, including both abstract classes and some\n",
    "concrete classes such as file I/O.\n",
    "\n",
    "Built-in function `open`  \n",
    "The standard way to open files for reading and writing with Python."
   ],
   "id": "a57d09ab-11b5-4b3a-902d-55f5e0cbfbae"
  }
 ],
 "nbformat": 4,
 "nbformat_minor": 5,
 "metadata": {}
}

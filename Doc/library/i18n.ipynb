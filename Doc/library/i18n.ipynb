{
 "cells": [
  {
   "cell_type": "markdown",
   "metadata": {},
   "source": [
    "# Internationalization\n",
    "\n",
    "The modules described in this chapter help you write software that is\n",
    "independent of language and locale by providing mechanisms for selecting\n",
    "a language to be used in program messages or by tailoring output to\n",
    "match local conventions.\n",
    "\n",
    "The list of modules described in this chapter is:\n",
    "\n",
    "gettext.rst locale.rst"
   ],
   "id": "b925e5d8-2be2-4285-970c-23199d7883f3"
  }
 ],
 "nbformat": 4,
 "nbformat_minor": 5,
 "metadata": {}
}

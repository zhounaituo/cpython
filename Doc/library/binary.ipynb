{
 "cells": [
  {
   "cell_type": "markdown",
   "metadata": {},
   "source": [
    "# Binary Data Services\n",
    "\n",
    "The modules described in this chapter provide some basic services\n",
    "operations for manipulation of binary data. Other operations on binary\n",
    "data, specifically in relation to file formats and network protocols,\n",
    "are described in the relevant sections.\n",
    "\n",
    "Some libraries described under `textservices` also work with either\n",
    "ASCII-compatible binary formats (for example, `re`) or all binary data\n",
    "(for example, `difflib`).\n",
    "\n",
    "In addition, see the documentation for Python's built-in binary data\n",
    "types in `binaryseq`.\n",
    "\n",
    "struct.rst codecs.rst"
   ],
   "id": "531b03ff-a507-4355-9401-a53441feeb57"
  }
 ],
 "nbformat": 4,
 "nbformat_minor": 5,
 "metadata": {}
}

{
 "cells": [
  {
   "cell_type": "markdown",
   "metadata": {},
   "source": [
    "# Python Setup and Usage\n",
    "\n",
    "This part of the documentation is devoted to general information on the\n",
    "setup of the Python environment on different platforms, the invocation\n",
    "of the interpreter and things that make working with Python easier.\n",
    "\n",
    "cmdline.rst unix.rst configure.rst windows.rst mac.rst editors.rst"
   ],
   "id": "9ae15d4d-b347-405b-83a4-95bb4ef6a454"
  }
 ],
 "nbformat": 4,
 "nbformat_minor": 5,
 "metadata": {}
}

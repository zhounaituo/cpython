{
 "cells": [
  {
   "cell_type": "markdown",
   "metadata": {},
   "source": [
    "# Copyright\n",
    "\n",
    "Python and this documentation is:\n",
    "\n",
    "Copyright © 2001-2022 Python Software Foundation. All rights reserved.\n",
    "\n",
    "Copyright © 2000 BeOpen.com. All rights reserved.\n",
    "\n",
    "Copyright © 1995-2000 Corporation for National Research Initiatives. All\n",
    "rights reserved.\n",
    "\n",
    "Copyright © 1991-1995 Stichting Mathematisch Centrum. All rights\n",
    "reserved.\n",
    "\n",
    "------------------------------------------------------------------------\n",
    "\n",
    "See `history-and-license` for complete license and permissions\n",
    "information."
   ],
   "id": "43cb5ed7-023f-4a60-bced-1d073dce7b36"
  }
 ],
 "nbformat": 4,
 "nbformat_minor": 5,
 "metadata": {}
}

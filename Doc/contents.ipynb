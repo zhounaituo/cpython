{
 "cells": [
  {
   "cell_type": "markdown",
   "metadata": {},
   "source": [
    "# Python Documentation contents\n",
    "\n",
    "whatsnew/index.rst tutorial/index.rst using/index.rst\n",
    "reference/index.rst library/index.rst extending/index.rst\n",
    "c-api/index.rst distributing/index.rst installing/index.rst\n",
    "howto/index.rst faq/index.rst glossary.rst\n",
    "\n",
    "about.rst bugs.rst copyright.rst license.rst\n",
    "\n",
    "distutils/index.rst install/index.rst"
   ],
   "id": "7c9c9028-6787-4f6c-be03-a389056984c3"
  }
 ],
 "nbformat": 4,
 "nbformat_minor": 5,
 "metadata": {}
}

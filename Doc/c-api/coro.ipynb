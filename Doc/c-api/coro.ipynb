{
 "cells": [
  {
   "cell_type": "markdown",
   "metadata": {},
   "source": [
    "# Coroutine Objects\n",
    "\n",
    "3.5\n",
    "\n",
    "Coroutine objects are what functions declared with an `async` keyword\n",
    "return.\n",
    "\n",
    "> The C structure used for coroutine objects.\n",
    "\n",
    "> The type object corresponding to coroutine objects.\n",
    "\n",
    "> Return true if *ob*'s type is :c`PyCoro_Type`; *ob* must not be\n",
    "> `NULL`. This function always succeeds.\n",
    "\n",
    "> Create and return a new coroutine object based on the *frame* object,\n",
    "> with `__name__` and `__qualname__` set to *name* and *qualname*. A\n",
    "> reference to *frame* is stolen by this function. The *frame* argument\n",
    "> must not be `NULL`."
   ],
   "id": "3c83cb0f-6993-4d2c-91ac-ccf68a3ccfba"
  }
 ],
 "nbformat": 4,
 "nbformat_minor": 5,
 "metadata": {}
}

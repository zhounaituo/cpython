{
 "cells": [
  {
   "cell_type": "markdown",
   "metadata": {},
   "source": [
    "# Generator Objects\n",
    "\n",
    "Generator objects are what Python uses to implement generator iterators.\n",
    "They are normally created by iterating over a function that yields\n",
    "values, rather than explicitly calling :c`PyGen_New` or\n",
    ":c`PyGen_NewWithQualName`.\n",
    "\n",
    "> The C structure used for generator objects.\n",
    "\n",
    "> The type object corresponding to generator objects.\n",
    "\n",
    "> Return true if *ob* is a generator object; *ob* must not be `NULL`.\n",
    "> This function always succeeds.\n",
    "\n",
    "> Return true if *ob*'s type is :c`PyGen_Type`; *ob* must not be `NULL`.\n",
    "> This function always succeeds.\n",
    "\n",
    "> Create and return a new generator object based on the *frame* object.\n",
    "> A reference to *frame* is stolen by this function. The argument must\n",
    "> not be `NULL`.\n",
    "\n",
    "> Create and return a new generator object based on the *frame* object,\n",
    "> with `__name__` and `__qualname__` set to *name* and *qualname*. A\n",
    "> reference to *frame* is stolen by this function. The *frame* argument\n",
    "> must not be `NULL`."
   ],
   "id": "8d93f076-c097-4eb1-a75d-0d5e5180c2ba"
  }
 ],
 "nbformat": 4,
 "nbformat_minor": 5,
 "metadata": {}
}

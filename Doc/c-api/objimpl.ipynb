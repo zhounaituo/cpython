{
 "cells": [
  {
   "cell_type": "markdown",
   "metadata": {},
   "source": [
    "# Object Implementation Support\n",
    "\n",
    "This chapter describes the functions, types, and macros used when\n",
    "defining new object types.\n",
    "\n",
    "allocation.rst structures.rst typeobj.rst gcsupport.rst"
   ],
   "id": "7da0c013-5248-49ca-bb9b-be94a965f35e"
  }
 ],
 "nbformat": 4,
 "nbformat_minor": 5,
 "metadata": {}
}

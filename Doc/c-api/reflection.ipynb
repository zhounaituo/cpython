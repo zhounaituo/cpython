{
 "cells": [
  {
   "cell_type": "markdown",
   "metadata": {},
   "source": [
    "# Reflection\n",
    "\n",
    "> Return a dictionary of the builtins in the current execution frame, or\n",
    "> the interpreter of the thread state if no frame is currently\n",
    "> executing.\n",
    "\n",
    "> Return a dictionary of the local variables in the current execution\n",
    "> frame, or `NULL` if no frame is currently executing.\n",
    "\n",
    "> Return a dictionary of the global variables in the current execution\n",
    "> frame, or `NULL` if no frame is currently executing.\n",
    "\n",
    "> Return the current thread state's frame, which is `NULL` if no frame\n",
    "> is currently executing.\n",
    ">\n",
    "> See also :c`PyThreadState_GetFrame`.\n",
    "\n",
    "> Return the name of *func* if it is a function, class or instance\n",
    "> object, else the name of *func*s type.\n",
    "\n",
    "> Return a description string, depending on the type of *func*. Return\n",
    "> values include \"()\" for functions and methods, \" constructor\", \"\n",
    "> instance\", and \" object\". Concatenated with the result of\n",
    "> :c`PyEval_GetFuncName`, the result will be a description of *func*."
   ],
   "id": "3841a94d-3da2-44e2-ae78-2e61902c4fff"
  }
 ],
 "nbformat": 4,
 "nbformat_minor": 5,
 "metadata": {}
}

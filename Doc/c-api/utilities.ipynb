{
 "cells": [
  {
   "cell_type": "markdown",
   "metadata": {},
   "source": [
    "# Utilities\n",
    "\n",
    "The functions in this chapter perform various utility tasks, ranging\n",
    "from helping C code be more portable across platforms, using Python\n",
    "modules from C, and parsing function arguments and constructing Python\n",
    "values from C values.\n",
    "\n",
    "sys.rst import.rst marshal.rst arg.rst conversion.rst reflection.rst\n",
    "codec.rst"
   ],
   "id": "3c853632-728d-4693-9093-fcef96d372af"
  }
 ],
 "nbformat": 4,
 "nbformat_minor": 5,
 "metadata": {}
}

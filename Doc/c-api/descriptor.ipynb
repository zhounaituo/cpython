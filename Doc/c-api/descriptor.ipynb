{
 "cells": [
  {
   "cell_type": "markdown",
   "metadata": {},
   "source": [
    "# Descriptor Objects\n",
    "\n",
    "\"Descriptors\" are objects that describe some attribute of an object.\n",
    "They are found in the dictionary of type objects.\n",
    "\n",
    "> The type object for the built-in descriptor types.\n",
    "\n",
    "> Return non-zero if the descriptor objects *descr* describes a data\n",
    "> attribute, or `0` if it describes a method. *descr* must be a\n",
    "> descriptor object; there is no error checking."
   ],
   "id": "849f7a65-8ee5-40ea-81b9-aed6ae166a97"
  }
 ],
 "nbformat": 4,
 "nbformat_minor": 5,
 "metadata": {}
}

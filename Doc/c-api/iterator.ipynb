{
 "cells": [
  {
   "cell_type": "markdown",
   "metadata": {},
   "source": [
    "# Iterator Objects\n",
    "\n",
    "Python provides two general-purpose iterator objects. The first, a\n",
    "sequence iterator, works with an arbitrary sequence supporting the\n",
    "`__getitem__` method. The second works with a callable object and a\n",
    "sentinel value, calling the callable for each item in the sequence, and\n",
    "ending the iteration when the sentinel value is returned.\n",
    "\n",
    "> Type object for iterator objects returned by :c`PySeqIter_New` and the\n",
    "> one-argument form of the `iter` built-in function for built-in\n",
    "> sequence types.\n",
    "\n",
    "> Return true if the type of *op* is :c`PySeqIter_Type`. This function\n",
    "> always succeeds.\n",
    "\n",
    "> Return an iterator that works with a general sequence object, *seq*.\n",
    "> The iteration ends when the sequence raises `IndexError` for the\n",
    "> subscripting operation.\n",
    "\n",
    "> Type object for iterator objects returned by :c`PyCallIter_New` and\n",
    "> the two-argument form of the `iter` built-in function.\n",
    "\n",
    "> Return true if the type of *op* is :c`PyCallIter_Type`. This function\n",
    "> always succeeds.\n",
    "\n",
    "> Return a new iterator. The first parameter, *callable*, can be any\n",
    "> Python callable object that can be called with no parameters; each\n",
    "> call to it should return the next item in the iteration. When\n",
    "> *callable* returns a value equal to *sentinel*, the iteration will be\n",
    "> terminated."
   ],
   "id": "cbd4e067-2085-4b9f-8bd5-d4728dfd8bc4"
  }
 ],
 "nbformat": 4,
 "nbformat_minor": 5,
 "metadata": {}
}

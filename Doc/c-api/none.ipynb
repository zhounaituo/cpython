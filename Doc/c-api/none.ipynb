{
 "cells": [
  {
   "cell_type": "markdown",
   "metadata": {},
   "source": [
    "# The `None` Object\n",
    "\n",
    "object: None\n",
    "\n",
    "Note that the :c`PyTypeObject` for `None` is not directly exposed in the\n",
    "Python/C API. Since `None` is a singleton, testing for object identity\n",
    "(using `==` in C) is sufficient. There is no :c`PyNone_Check` function\n",
    "for the same reason.\n",
    "\n",
    "> The Python `None` object, denoting lack of value. This object has no\n",
    "> methods. It needs to be treated just like any other object with\n",
    "> respect to reference counts.\n",
    "\n",
    "> Properly handle returning :c`Py_None` from within a C function (that\n",
    "> is, increment the reference count of `None` and return it.)"
   ],
   "id": "41c3f3d3-cdb6-4e87-9951-fcd316274928"
  }
 ],
 "nbformat": 4,
 "nbformat_minor": 5,
 "metadata": {}
}

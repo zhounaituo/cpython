{
 "cells": [
  {
   "cell_type": "markdown",
   "metadata": {},
   "source": [
    "# Boolean Objects\n",
    "\n",
    "Booleans in Python are implemented as a subclass of integers. There are\n",
    "only two booleans, `Py_False` and `Py_True`. As such, the normal\n",
    "creation and deletion functions don't apply to booleans. The following\n",
    "macros are available, however.\n",
    "\n",
    "> Return true if *o* is of type :c`PyBool_Type`. This function always\n",
    "> succeeds.\n",
    "\n",
    "> The Python `False` object. This object has no methods. It needs to be\n",
    "> treated just like any other object with respect to reference counts.\n",
    "\n",
    "> The Python `True` object. This object has no methods. It needs to be\n",
    "> treated just like any other object with respect to reference counts.\n",
    "\n",
    "> Return `Py_False` from a function, properly incrementing its reference\n",
    "> count.\n",
    "\n",
    "> Return `Py_True` from a function, properly incrementing its reference\n",
    "> count.\n",
    "\n",
    "> Return a new reference to `Py_True` or `Py_False` depending on the\n",
    "> truth value of *v*."
   ],
   "id": "477a1e46-731c-484a-a68c-c1f01d1989de"
  }
 ],
 "nbformat": 4,
 "nbformat_minor": 5,
 "metadata": {}
}

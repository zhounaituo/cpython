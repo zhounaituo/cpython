{
 "cells": [
  {
   "cell_type": "markdown",
   "metadata": {},
   "source": [
    "# Abstract Objects Layer\n",
    "\n",
    "The functions in this chapter interact with Python objects regardless of\n",
    "their type, or with wide classes of object types (e.g. all numerical\n",
    "types, or all sequence types). When used on object types for which they\n",
    "do not apply, they will raise a Python exception.\n",
    "\n",
    "It is not possible to use these functions on objects that are not\n",
    "properly initialized, such as a list object that has been created by\n",
    ":c`PyList_New`, but whose items have not been set to some non-`NULL`\n",
    "value yet.\n",
    "\n",
    "object.rst call.rst number.rst sequence.rst mapping.rst iter.rst\n",
    "buffer.rst objbuffer.rst"
   ],
   "id": "72010bb1-2c15-4347-936e-5a12d8ab784d"
  }
 ],
 "nbformat": 4,
 "nbformat_minor": 5,
 "metadata": {}
}

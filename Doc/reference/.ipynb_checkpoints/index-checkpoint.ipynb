{
 "cells": [
  {
   "cell_type": "markdown",
   "id": "a34deda8-747a-491a-924c-0712a1469ff2",
   "metadata": {},
   "source": [
    "# The Python Language Reference\n",
    "\n",
    "This reference manual describes the syntax and \"core semantics\" of the\n",
    "language. It is terse, but attempts to be exact and complete. The\n",
    "semantics of non-essential built-in object types and of the built-in\n",
    "functions and modules are described in `library-index`. For an informal\n",
    "introduction to the language, see `tutorial-index`. For C or C++\n",
    "programmers, two additional manuals exist: `extending-index` describes\n",
    "the high-level picture of how to write a Python extension module, and\n",
    "the `c-api-index` describes the interfaces available to C/C++\n",
    "programmers in detail.\n"
   ]
  },
  {
   "cell_type": "code",
   "execution_count": null,
   "id": "abd0621c-9b49-4b76-8dcf-8767627bca7e",
   "metadata": {},
   "outputs": [],
   "source": []
  },
  {
   "cell_type": "code",
   "execution_count": null,
   "id": "1f4c4cb6-d0fd-4d52-9ab4-90c2948c7b90",
   "metadata": {},
   "outputs": [],
   "source": [
    "import re\n",
    "toc = ['appetite.ipynb','interpreter.ipynb','introduction.ipynb','controlflow.ipynb','datastructures.ipynb','modules.ipynb','inputoutput.ipynb','errors.ipynb','classes.ipynb','stdlib.ipynb','stdlib2.ipynb','venv.ipynb','whatnow.ipynb','interactive.ipynb','floatingpoint.ipynb','appendix.ipynb']\n",
    "patte = r'\\w*'\n",
    "for toc_list in toc:\n",
    "    print(f'> - [{re.findall(patte,toc_list)[0]}]({toc_list})')"
   ]
  }
 ],
 "metadata": {
  "kernelspec": {
   "display_name": "Python 3 (ipykernel)",
   "language": "python",
   "name": "python3"
  },
  "language_info": {
   "codemirror_mode": {
    "name": "ipython",
    "version": 3
   },
   "file_extension": ".py",
   "mimetype": "text/x-python",
   "name": "python",
   "nbconvert_exporter": "python",
   "pygments_lexer": "ipython3",
   "version": "3.9.7"
  }
 },
 "nbformat": 4,
 "nbformat_minor": 5
}

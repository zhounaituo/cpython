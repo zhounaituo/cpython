{
 "cells": [
  {
   "cell_type": "markdown",
   "metadata": {},
   "source": [
    "# The Python Language Reference\n",
    "\n",
    "This reference manual describes the syntax and \"core semantics\" of the\n",
    "language. It is terse, but attempts to be exact and complete. The\n",
    "semantics of non-essential built-in object types and of the built-in\n",
    "functions and modules are described in `library-index`. For an informal\n",
    "introduction to the language, see `tutorial-index`. For C or C++\n",
    "programmers, two additional manuals exist: `extending-index` describes\n",
    "the high-level picture of how to write a Python extension module, and\n",
    "the `c-api-index` describes the interfaces available to C/C++\n",
    "programmers in detail.\n",
    "\n",
    "introduction.rst lexical_analysis.rst datamodel.rst executionmodel.rst\n",
    "import.rst expressions.rst simple_stmts.rst compound_stmts.rst\n",
    "toplevel_components.rst grammar.rst"
   ],
   "id": "a34deda8-747a-491a-924c-0712a1469ff2"
  }
 ],
 "nbformat": 4,
 "nbformat_minor": 5,
 "metadata": {}
}

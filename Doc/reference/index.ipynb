{
 "cells": [
  {
   "cell_type": "markdown",
   "id": "a34deda8-747a-491a-924c-0712a1469ff2",
   "metadata": {},
   "source": [
    "# The Python Language Reference\n",
    "\n",
    "This reference manual describes the syntax and \"core semantics\" of the\n",
    "language. It is terse, but attempts to be exact and complete. The\n",
    "semantics of non-essential built-in object types and of the built-in\n",
    "functions and modules are described in `library-index`. For an informal\n",
    "introduction to the language, see `tutorial-index`. For C or C++\n",
    "programmers, two additional manuals exist: `extending-index` describes\n",
    "the high-level picture of how to write a Python extension module, and\n",
    "the `c-api-index` describes the interfaces available to C/C++\n",
    "programmers in detail.\n",
    "\n",
    "> - [introduction](introduction.ipynb)\n",
    "> - [lexical_analysis](lexical_analysis.ipynb)\n",
    "> - [datamodel](datamodel.ipynb)\n",
    "> - [executionmodel](executionmodel.rst)\n",
    "> - [import](import.ipynb)\n",
    "> - [expressions](expressions.ipynb)\n",
    "> - [simple_stmts](simple_stmts.ipynb)\n",
    "> - [compound_stmts](compound_stmts.rst)\n",
    "> - [toplevel_components](toplevel_components.ipynb)\n",
    "> - [grammar](grammar.rst)"
   ]
  },
  {
   "cell_type": "code",
   "execution_count": 1,
   "id": "abd0621c-9b49-4b76-8dcf-8767627bca7e",
   "metadata": {},
   "outputs": [],
   "source": [
    "toc= ['introduction.ipynb','lexical_analysis.ipynb','datamodel.ipynb','executionmodel.rst','import.ipynb','expressions.ipynb','simple_stmts.ipynb','compound_stmts.rst','toplevel_components.ipynb','grammar.rst']"
   ]
  },
  {
   "cell_type": "code",
   "execution_count": 2,
   "id": "1f4c4cb6-d0fd-4d52-9ab4-90c2948c7b90",
   "metadata": {},
   "outputs": [
    {
     "name": "stdout",
     "output_type": "stream",
     "text": [
      "> - [introduction](introduction.ipynb)\n",
      "> - [lexical_analysis](lexical_analysis.ipynb)\n",
      "> - [datamodel](datamodel.ipynb)\n",
      "> - [executionmodel](executionmodel.rst)\n",
      "> - [import](import.ipynb)\n",
      "> - [expressions](expressions.ipynb)\n",
      "> - [simple_stmts](simple_stmts.ipynb)\n",
      "> - [compound_stmts](compound_stmts.rst)\n",
      "> - [toplevel_components](toplevel_components.ipynb)\n",
      "> - [grammar](grammar.rst)\n"
     ]
    }
   ],
   "source": [
    "import re\n",
    "# toc = ['appetite.ipynb','interpreter.ipynb','introduction.ipynb','controlflow.ipynb','datastructures.ipynb','modules.ipynb','inputoutput.ipynb','errors.ipynb','classes.ipynb','stdlib.ipynb','stdlib2.ipynb','venv.ipynb','whatnow.ipynb','interactive.ipynb','floatingpoint.ipynb','appendix.ipynb']\n",
    "patte = r'\\w*'\n",
    "for toc_list in toc:\n",
    "    print(f'> - [{re.findall(patte,toc_list)[0]}]({toc_list})')"
   ]
  },
  {
   "cell_type": "code",
   "execution_count": null,
   "id": "71ddb1f8-f2e1-403d-bd93-cdbccd2559c8",
   "metadata": {},
   "outputs": [],
   "source": []
  }
 ],
 "metadata": {
  "kernelspec": {
   "display_name": "Python 3 (ipykernel)",
   "language": "python",
   "name": "python3"
  },
  "language_info": {
   "codemirror_mode": {
    "name": "ipython",
    "version": 3
   },
   "file_extension": ".py",
   "mimetype": "text/x-python",
   "name": "python",
   "nbconvert_exporter": "python",
   "pygments_lexer": "ipython3",
   "version": "3.9.7"
  }
 },
 "nbformat": 4,
 "nbformat_minor": 5
}

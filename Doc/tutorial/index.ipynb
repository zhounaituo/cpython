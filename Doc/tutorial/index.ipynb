{
 "cells": [
  {
   "cell_type": "markdown",
   "id": "3fb336c1-fab8-45be-bca1-08096227fab2",
   "metadata": {},
   "source": [
    "# The Python Tutorial\n",
    "\n",
    "Python is an easy to learn, powerful programming language. It has\n",
    "efficient high-level data structures and a simple but effective approach\n",
    "to object-oriented programming. Python's elegant syntax and dynamic\n",
    "typing, together with its interpreted nature, make it an ideal language\n",
    "for scripting and rapid application development in many areas on most\n",
    "platforms.\n",
    "\n",
    "The Python interpreter and the extensive standard library are freely\n",
    "available in source or binary form for all major platforms from the\n",
    "Python web site, <https://www.python.org/>, and may be freely\n",
    "distributed. The same site also contains distributions of and pointers\n",
    "to many free third party Python modules, programs and tools, and\n",
    "additional documentation.\n",
    "\n",
    "The Python interpreter is easily extended with new functions and data\n",
    "types implemented in C or C++ (or other languages callable from C).\n",
    "Python is also suitable as an extension language for customizable\n",
    "applications.\n",
    "\n",
    "This tutorial introduces the reader informally to the basic concepts and\n",
    "features of the Python language and system. It helps to have a Python\n",
    "interpreter handy for hands-on experience, but all examples are\n",
    "self-contained, so the tutorial can be read off-line as well.\n",
    "\n",
    "For a description of standard objects and modules, see `library-index`.\n",
    "`reference-index` gives a more formal definition of the language. To\n",
    "write extensions in C or C++, read `extending-index` and `c-api-index`.\n",
    "There are also several books covering Python in depth.\n",
    "\n",
    "This tutorial does not attempt to be comprehensive and cover every\n",
    "single feature, or even every commonly used feature. Instead, it\n",
    "introduces many of Python's most noteworthy features, and will give you\n",
    "a good idea of the language's flavor and style. After reading it, you\n",
    "will be able to read and write Python modules and programs, and you will\n",
    "be ready to learn more about the various Python library modules\n",
    "described in `library-index`.\n",
    "\n",
    "The `glossary` is also worth going through.\n",
    "\n",
    "> - [appetite](appetite.ipynb)\n",
    "> - [interpreter](interpreter.ipynb)\n",
    "> - [introduction](introduction.ipynb)\n",
    "> - [controlflow](controlflow.ipynb)\n",
    "> - [datastructures](datastructures.ipynb)\n",
    "> - [modules](modules.ipynb)\n",
    "> - [inputoutput](inputoutput.ipynb)\n",
    "> - [errors](errors.ipynb)\n",
    "> - [classes](classes.ipynb)\n",
    "> - [stdlib](stdlib.ipynb)\n",
    "> - [stdlib2](stdlib2.ipynb)\n",
    "> - [venv](venv.ipynb)\n",
    "> - [whatnow](whatnow.ipynb)\n",
    "> - [interactive](interactive.ipynb)\n",
    "> - [floatingpoint](floatingpoint.ipynb)\n",
    "> - [appendix](appendix.ipynb)"
   ]
  },
  {
   "cell_type": "code",
   "execution_count": null,
   "id": "8e92f1b9-81d9-45bf-96b0-b5745ae80cc0",
   "metadata": {},
   "outputs": [],
   "source": [
    "import re\n",
    "toc = ['appetite.ipynb','interpreter.ipynb','introduction.ipynb','controlflow.ipynb','datastructures.ipynb','modules.ipynb','inputoutput.ipynb','errors.ipynb','classes.ipynb','stdlib.ipynb','stdlib2.ipynb','venv.ipynb','whatnow.ipynb','interactive.ipynb','floatingpoint.ipynb','appendix.ipynb']\n",
    "patte = r'\\w*'\n",
    "for toc_list in toc:\n",
    "    print(f'> - [{re.findall(patte,toc_list)[0]}]({toc_list})')"
   ]
  },
  {
   "cell_type": "code",
   "execution_count": null,
   "id": "c6986f37-c795-47a3-9d70-4a1c49238fe1",
   "metadata": {},
   "outputs": [],
   "source": []
  }
 ],
 "metadata": {
  "kernelspec": {
   "display_name": "Python 3 (ipykernel)",
   "language": "python",
   "name": "python3"
  },
  "language_info": {
   "codemirror_mode": {
    "name": "ipython",
    "version": 3
   },
   "file_extension": ".py",
   "mimetype": "text/x-python",
   "name": "python",
   "nbconvert_exporter": "python",
   "pygments_lexer": "ipython3",
   "version": "3.9.7"
  }
 },
 "nbformat": 4,
 "nbformat_minor": 5
}

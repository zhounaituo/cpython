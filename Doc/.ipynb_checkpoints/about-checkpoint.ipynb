{
 "cells": [
  {
   "cell_type": "markdown",
   "metadata": {},
   "source": [
    "# About these documents\n",
    "\n",
    "These documents are generated from\n",
    "[reStructuredText](http://docutils.sourceforge.net/rst.html) sources by\n",
    "[Sphinx](http://sphinx-doc.org/), a document processor specifically\n",
    "written for the Python documentation.\n",
    "\n",
    "Development of the documentation and its toolchain is an entirely\n",
    "volunteer effort, just like Python itself. If you want to contribute,\n",
    "please take a look at the `reporting-bugs` page for information on how\n",
    "to do so. New volunteers are always welcome!\n",
    "\n",
    "Many thanks go to:\n",
    "\n",
    "-   Fred L. Drake, Jr., the creator of the original Python documentation\n",
    "    toolset and writer of much of the content;\n",
    "-   the [Docutils](http://docutils.sourceforge.net/) project for\n",
    "    creating reStructuredText and the Docutils suite;\n",
    "-   Fredrik Lundh for his Alternative Python Reference project from\n",
    "    which Sphinx got many good ideas.\n",
    "\n",
    "## Contributors to the Python Documentation\n",
    "\n",
    "Many people have contributed to the Python language, the Python standard\n",
    "library, and the Python documentation. See `Misc/ACKS` in the Python\n",
    "source distribution for a partial list of contributors.\n",
    "\n",
    "It is only with the input and contributions of the Python community that\n",
    "Python has such wonderful documentation -- Thank You!"
   ],
   "id": "7dc34b31-d631-4e92-ab41-f9512a5cf64b"
  }
 ],
 "nbformat": 4,
 "nbformat_minor": 5,
 "metadata": {}
}

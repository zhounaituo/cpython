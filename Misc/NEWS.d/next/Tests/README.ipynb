{
 "cells": [
  {
   "cell_type": "markdown",
   "metadata": {},
   "source": [
    "Put news entry [blurb](https://pypi.org/project/blurb/) files for the\n",
    "*Tests* section in this directory."
   ],
   "id": "05af479e-86b8-4222-bd2d-65f9106f7010"
  }
 ],
 "nbformat": 4,
 "nbformat_minor": 5,
 "metadata": {}
}

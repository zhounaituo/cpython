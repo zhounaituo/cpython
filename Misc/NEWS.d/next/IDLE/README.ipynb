{
 "cells": [
  {
   "cell_type": "markdown",
   "metadata": {},
   "source": [
    "Put news entry [blurb](https://pypi.org/project/blurb/) files for the\n",
    "*IDLE* section in this directory."
   ],
   "id": "77f1e50b-62f0-4833-8067-d13943455017"
  }
 ],
 "nbformat": 4,
 "nbformat_minor": 5,
 "metadata": {}
}

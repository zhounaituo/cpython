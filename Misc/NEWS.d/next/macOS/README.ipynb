{
 "cells": [
  {
   "cell_type": "markdown",
   "metadata": {},
   "source": [
    "Put news entry [blurb](https://pypi.org/project/blurb/) files for the\n",
    "*macOS* section in this directory."
   ],
   "id": "06fa24e8-3f9a-44d9-a5d4-b351a8fdd8e2"
  }
 ],
 "nbformat": 4,
 "nbformat_minor": 5,
 "metadata": {}
}

{
 "cells": [
  {
   "cell_type": "markdown",
   "metadata": {},
   "source": [
    "Put news entry [blurb](https://pypi.org/project/blurb/) files for the\n",
    "*Library* section in this directory."
   ],
   "id": "c5ea670d-352d-45e6-987e-dd939a306260"
  }
 ],
 "nbformat": 4,
 "nbformat_minor": 5,
 "metadata": {}
}

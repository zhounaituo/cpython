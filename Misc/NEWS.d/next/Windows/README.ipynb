{
 "cells": [
  {
   "cell_type": "markdown",
   "metadata": {},
   "source": [
    "Put news entry [blurb](https://pypi.org/project/blurb/) files for the\n",
    "*Windows* section in this directory."
   ],
   "id": "9ae3e848-f9da-429b-a282-0f2450b4bca7"
  }
 ],
 "nbformat": 4,
 "nbformat_minor": 5,
 "metadata": {}
}

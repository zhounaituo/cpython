{
 "cells": [
  {
   "cell_type": "markdown",
   "metadata": {},
   "source": [
    "Put news entry [blurb](https://pypi.org/project/blurb/) files for the\n",
    "*Tools/Demos* section in this directory."
   ],
   "id": "9c2e6782-7c48-4970-975f-66e2d7eb90df"
  }
 ],
 "nbformat": 4,
 "nbformat_minor": 5,
 "metadata": {}
}

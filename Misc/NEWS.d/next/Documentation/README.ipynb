{
 "cells": [
  {
   "cell_type": "markdown",
   "metadata": {},
   "source": [
    "Put news entry [blurb](https://pypi.org/project/blurb/) files for the\n",
    "*Documentation* section in this directory."
   ],
   "id": "e33f715b-bfe1-4517-9084-01802f7379fd"
  }
 ],
 "nbformat": 4,
 "nbformat_minor": 5,
 "metadata": {}
}
